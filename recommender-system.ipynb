{
 "cells": [
  {
   "cell_type": "code",
   "execution_count": 1,
   "metadata": {
    "colab": {
     "base_uri": "https://localhost:8080/"
    },
    "id": "V6n4UEQF3Y9G",
    "outputId": "87c0d214-c11e-4f36-dd1b-1e02e5fffcfa"
   },
   "outputs": [
    {
     "name": "stdout",
     "output_type": "stream",
     "text": [
      "Path to dataset files: C:\\Users\\Unaiza\\.cache\\kagglehub\\datasets\\somnambwl\\bookcrossing-dataset\\versions\\1\n"
     ]
    }
   ],
   "source": [
    "import kagglehub\n",
    "\n",
    "path = kagglehub.dataset_download(\"somnambwl/bookcrossing-dataset\")\n",
    "\n",
    "print(\"Path to dataset files:\", path)"
   ]
  },
  {
   "cell_type": "code",
   "execution_count": 2,
   "metadata": {
    "colab": {
     "base_uri": "https://localhost:8080/"
    },
    "id": "lWazeiPN4JM_",
    "outputId": "9be7d377-f164-47d7-a179-175bee4bbf6f"
   },
   "outputs": [
    {
     "name": "stdout",
     "output_type": "stream",
     "text": [
      "['Books.csv', 'Ratings.csv', 'Users.csv']\n"
     ]
    }
   ],
   "source": [
    "import os\n",
    "\n",
    "print(os.listdir(path))"
   ]
  },
  {
   "cell_type": "code",
   "execution_count": 3,
   "metadata": {
    "id": "iI87OhvQ3ciT"
   },
   "outputs": [],
   "source": [
    "import pandas as pd\n",
    "import numpy as np\n",
    "from sklearn.feature_extraction.text import TfidfVectorizer\n",
    "from sklearn.metrics.pairwise import cosine_similarity\n",
    "from sklearn.preprocessing import Normalizer"
   ]
  },
  {
   "cell_type": "code",
   "execution_count": 4,
   "metadata": {
    "colab": {
     "base_uri": "https://localhost:8080/"
    },
    "id": "MIK0FZKO3o2P",
    "outputId": "111f7fc1-02fa-41ab-9322-a1ae2832b9b8"
   },
   "outputs": [
    {
     "name": "stderr",
     "output_type": "stream",
     "text": [
      "C:\\Users\\Unaiza\\AppData\\Local\\Temp\\ipykernel_16692\\2223971062.py:3: DtypeWarning: Columns (0) have mixed types. Specify dtype option on import or set low_memory=False.\n",
      "  users = pd.read_csv(path + '/Users.csv', sep=';', encoding='latin-1', on_bad_lines='skip')\n"
     ]
    }
   ],
   "source": [
    "books = pd.read_csv(path + '/Books.csv', sep=';', encoding='latin-1', on_bad_lines='skip')\n",
    "ratings = pd.read_csv(path + '/Ratings.csv', sep=';', encoding='latin-1', on_bad_lines='skip')\n",
    "users = pd.read_csv(path + '/Users.csv', sep=';', encoding='latin-1', on_bad_lines='skip')"
   ]
  },
  {
   "cell_type": "code",
   "execution_count": 5,
   "metadata": {
    "colab": {
     "base_uri": "https://localhost:8080/"
    },
    "id": "5oN0xixf3vCi",
    "outputId": "721bd00f-5e82-4fc5-f74e-5bf101587114"
   },
   "outputs": [
    {
     "name": "stdout",
     "output_type": "stream",
     "text": [
      "(271379, 5)\n",
      "(1149780, 3)\n",
      "(278859, 2)\n"
     ]
    }
   ],
   "source": [
    "print(books.shape)\n",
    "print(ratings.shape)\n",
    "print(users.shape)"
   ]
  },
  {
   "cell_type": "code",
   "execution_count": 6,
   "metadata": {
    "colab": {
     "base_uri": "https://localhost:8080/"
    },
    "id": "J_vUEHtR4YAs",
    "outputId": "b7a99110-dae3-4c60-9d2d-097065d59963"
   },
   "outputs": [
    {
     "name": "stdout",
     "output_type": "stream",
     "text": [
      "Index(['ISBN', 'Title', 'Author', 'Year', 'Publisher'], dtype='object')\n",
      "Index(['User-ID', 'ISBN', 'Rating'], dtype='object')\n",
      "Index(['User-ID', 'Age'], dtype='object')\n"
     ]
    }
   ],
   "source": [
    "print(books.columns)\n",
    "print(ratings.columns)\n",
    "print(users.columns)"
   ]
  },
  {
   "cell_type": "code",
   "execution_count": 7,
   "metadata": {
    "colab": {
     "base_uri": "https://localhost:8080/",
     "height": 206
    },
    "id": "UfSrJWsG5KAb",
    "outputId": "310c3492-c58d-41a3-e308-248dc614f3ac"
   },
   "outputs": [
    {
     "data": {
      "text/html": [
       "<div>\n",
       "<style scoped>\n",
       "    .dataframe tbody tr th:only-of-type {\n",
       "        vertical-align: middle;\n",
       "    }\n",
       "\n",
       "    .dataframe tbody tr th {\n",
       "        vertical-align: top;\n",
       "    }\n",
       "\n",
       "    .dataframe thead th {\n",
       "        text-align: right;\n",
       "    }\n",
       "</style>\n",
       "<table border=\"1\" class=\"dataframe\">\n",
       "  <thead>\n",
       "    <tr style=\"text-align: right;\">\n",
       "      <th></th>\n",
       "      <th>ISBN</th>\n",
       "      <th>Title</th>\n",
       "      <th>Author</th>\n",
       "      <th>Year</th>\n",
       "      <th>Publisher</th>\n",
       "    </tr>\n",
       "  </thead>\n",
       "  <tbody>\n",
       "    <tr>\n",
       "      <th>0</th>\n",
       "      <td>0195153448</td>\n",
       "      <td>Classical Mythology</td>\n",
       "      <td>Mark P. O. Morford</td>\n",
       "      <td>2002</td>\n",
       "      <td>Oxford University Press</td>\n",
       "    </tr>\n",
       "    <tr>\n",
       "      <th>1</th>\n",
       "      <td>0002005018</td>\n",
       "      <td>Clara Callan</td>\n",
       "      <td>Richard Bruce Wright</td>\n",
       "      <td>2001</td>\n",
       "      <td>HarperFlamingo Canada</td>\n",
       "    </tr>\n",
       "    <tr>\n",
       "      <th>2</th>\n",
       "      <td>0060973129</td>\n",
       "      <td>Decision in Normandy</td>\n",
       "      <td>Carlo D'Este</td>\n",
       "      <td>1991</td>\n",
       "      <td>HarperPerennial</td>\n",
       "    </tr>\n",
       "    <tr>\n",
       "      <th>3</th>\n",
       "      <td>0374157065</td>\n",
       "      <td>Flu: The Story of the Great Influenza Pandemic...</td>\n",
       "      <td>Gina Bari Kolata</td>\n",
       "      <td>1999</td>\n",
       "      <td>Farrar Straus Giroux</td>\n",
       "    </tr>\n",
       "    <tr>\n",
       "      <th>4</th>\n",
       "      <td>0393045218</td>\n",
       "      <td>The Mummies of Urumchi</td>\n",
       "      <td>E. J. W. Barber</td>\n",
       "      <td>1999</td>\n",
       "      <td>W. W. Norton &amp; Company</td>\n",
       "    </tr>\n",
       "  </tbody>\n",
       "</table>\n",
       "</div>"
      ],
      "text/plain": [
       "         ISBN                                              Title  \\\n",
       "0  0195153448                                Classical Mythology   \n",
       "1  0002005018                                       Clara Callan   \n",
       "2  0060973129                               Decision in Normandy   \n",
       "3  0374157065  Flu: The Story of the Great Influenza Pandemic...   \n",
       "4  0393045218                             The Mummies of Urumchi   \n",
       "\n",
       "                 Author  Year                Publisher  \n",
       "0    Mark P. O. Morford  2002  Oxford University Press  \n",
       "1  Richard Bruce Wright  2001    HarperFlamingo Canada  \n",
       "2          Carlo D'Este  1991          HarperPerennial  \n",
       "3      Gina Bari Kolata  1999     Farrar Straus Giroux  \n",
       "4       E. J. W. Barber  1999   W. W. Norton & Company  "
      ]
     },
     "execution_count": 7,
     "metadata": {},
     "output_type": "execute_result"
    }
   ],
   "source": [
    "books.head()"
   ]
  },
  {
   "cell_type": "code",
   "execution_count": 8,
   "metadata": {
    "colab": {
     "base_uri": "https://localhost:8080/",
     "height": 206
    },
    "id": "fDJeYBA05Ozj",
    "outputId": "97a23fc1-9b89-49c6-c9c7-cb555b6174af"
   },
   "outputs": [
    {
     "data": {
      "text/html": [
       "<div>\n",
       "<style scoped>\n",
       "    .dataframe tbody tr th:only-of-type {\n",
       "        vertical-align: middle;\n",
       "    }\n",
       "\n",
       "    .dataframe tbody tr th {\n",
       "        vertical-align: top;\n",
       "    }\n",
       "\n",
       "    .dataframe thead th {\n",
       "        text-align: right;\n",
       "    }\n",
       "</style>\n",
       "<table border=\"1\" class=\"dataframe\">\n",
       "  <thead>\n",
       "    <tr style=\"text-align: right;\">\n",
       "      <th></th>\n",
       "      <th>User-ID</th>\n",
       "      <th>ISBN</th>\n",
       "      <th>Rating</th>\n",
       "    </tr>\n",
       "  </thead>\n",
       "  <tbody>\n",
       "    <tr>\n",
       "      <th>0</th>\n",
       "      <td>276725</td>\n",
       "      <td>034545104X</td>\n",
       "      <td>0</td>\n",
       "    </tr>\n",
       "    <tr>\n",
       "      <th>1</th>\n",
       "      <td>276726</td>\n",
       "      <td>0155061224</td>\n",
       "      <td>5</td>\n",
       "    </tr>\n",
       "    <tr>\n",
       "      <th>2</th>\n",
       "      <td>276727</td>\n",
       "      <td>0446520802</td>\n",
       "      <td>0</td>\n",
       "    </tr>\n",
       "    <tr>\n",
       "      <th>3</th>\n",
       "      <td>276729</td>\n",
       "      <td>052165615X</td>\n",
       "      <td>3</td>\n",
       "    </tr>\n",
       "    <tr>\n",
       "      <th>4</th>\n",
       "      <td>276729</td>\n",
       "      <td>0521795028</td>\n",
       "      <td>6</td>\n",
       "    </tr>\n",
       "  </tbody>\n",
       "</table>\n",
       "</div>"
      ],
      "text/plain": [
       "   User-ID        ISBN  Rating\n",
       "0   276725  034545104X       0\n",
       "1   276726  0155061224       5\n",
       "2   276727  0446520802       0\n",
       "3   276729  052165615X       3\n",
       "4   276729  0521795028       6"
      ]
     },
     "execution_count": 8,
     "metadata": {},
     "output_type": "execute_result"
    }
   ],
   "source": [
    "ratings.head()"
   ]
  },
  {
   "cell_type": "code",
   "execution_count": 9,
   "metadata": {
    "colab": {
     "base_uri": "https://localhost:8080/",
     "height": 206
    },
    "id": "sXatD4E65Uu5",
    "outputId": "0815cbf3-c81a-45f8-8b4b-db224dadf51d"
   },
   "outputs": [
    {
     "data": {
      "text/html": [
       "<div>\n",
       "<style scoped>\n",
       "    .dataframe tbody tr th:only-of-type {\n",
       "        vertical-align: middle;\n",
       "    }\n",
       "\n",
       "    .dataframe tbody tr th {\n",
       "        vertical-align: top;\n",
       "    }\n",
       "\n",
       "    .dataframe thead th {\n",
       "        text-align: right;\n",
       "    }\n",
       "</style>\n",
       "<table border=\"1\" class=\"dataframe\">\n",
       "  <thead>\n",
       "    <tr style=\"text-align: right;\">\n",
       "      <th></th>\n",
       "      <th>User-ID</th>\n",
       "      <th>Age</th>\n",
       "    </tr>\n",
       "  </thead>\n",
       "  <tbody>\n",
       "    <tr>\n",
       "      <th>0</th>\n",
       "      <td>1</td>\n",
       "      <td>NaN</td>\n",
       "    </tr>\n",
       "    <tr>\n",
       "      <th>1</th>\n",
       "      <td>2</td>\n",
       "      <td>18</td>\n",
       "    </tr>\n",
       "    <tr>\n",
       "      <th>2</th>\n",
       "      <td>3</td>\n",
       "      <td>NaN</td>\n",
       "    </tr>\n",
       "    <tr>\n",
       "      <th>3</th>\n",
       "      <td>4</td>\n",
       "      <td>17</td>\n",
       "    </tr>\n",
       "    <tr>\n",
       "      <th>4</th>\n",
       "      <td>5</td>\n",
       "      <td>NaN</td>\n",
       "    </tr>\n",
       "  </tbody>\n",
       "</table>\n",
       "</div>"
      ],
      "text/plain": [
       "  User-ID  Age\n",
       "0       1  NaN\n",
       "1       2   18\n",
       "2       3  NaN\n",
       "3       4   17\n",
       "4       5  NaN"
      ]
     },
     "execution_count": 9,
     "metadata": {},
     "output_type": "execute_result"
    }
   ],
   "source": [
    "users.head()"
   ]
  },
  {
   "cell_type": "code",
   "execution_count": 10,
   "metadata": {
    "colab": {
     "base_uri": "https://localhost:8080/"
    },
    "id": "rsITptP45Ynh",
    "outputId": "c60c6a55-bd43-44c4-bcd7-47a7cdf5470e"
   },
   "outputs": [
    {
     "name": "stdout",
     "output_type": "stream",
     "text": [
      "ISBN         0\n",
      "Title        0\n",
      "Author       2\n",
      "Year         0\n",
      "Publisher    2\n",
      "dtype: int64 \n",
      "-------------\n",
      "User-ID    0\n",
      "ISBN       0\n",
      "Rating     0\n",
      "dtype: int64 \n",
      "-------------\n",
      "User-ID         0\n",
      "Age        110232\n",
      "dtype: int64 \n",
      "-------------\n"
     ]
    }
   ],
   "source": [
    "print(books.isnull().sum(), '\\n-------------')\n",
    "print(ratings.isnull().sum(), '\\n-------------')\n",
    "print(users.isnull().sum(), '\\n-------------')"
   ]
  },
  {
   "cell_type": "code",
   "execution_count": 11,
   "metadata": {
    "colab": {
     "base_uri": "https://localhost:8080/"
    },
    "id": "ktwMD8hU5p_3",
    "outputId": "78cfdb0d-4455-4779-e76b-a68220acbd77"
   },
   "outputs": [
    {
     "name": "stdout",
     "output_type": "stream",
     "text": [
      "ISBN         object\n",
      "Title        object\n",
      "Author       object\n",
      "Year          int64\n",
      "Publisher    object\n",
      "dtype: object\n",
      "User-ID     int64\n",
      "ISBN       object\n",
      "Rating      int64\n",
      "dtype: object\n",
      "User-ID    object\n",
      "Age        object\n",
      "dtype: object\n"
     ]
    }
   ],
   "source": [
    "print(books.dtypes)\n",
    "print(ratings.dtypes)\n",
    "print(users.dtypes)"
   ]
  },
  {
   "cell_type": "code",
   "execution_count": 12,
   "metadata": {
    "id": "yUZv9I0W5-C8"
   },
   "outputs": [],
   "source": [
    "books['Author'] = books['Author'].fillna('Unknown')\n",
    "books['Publisher'] = books['Publisher'].fillna('Unknown')"
   ]
  },
  {
   "cell_type": "code",
   "execution_count": 13,
   "metadata": {
    "id": "CXOZ8un16bG9"
   },
   "outputs": [],
   "source": [
    "users['Age'] = users['Age'].fillna(0)"
   ]
  },
  {
   "cell_type": "code",
   "execution_count": 14,
   "metadata": {
    "colab": {
     "base_uri": "https://localhost:8080/"
    },
    "id": "HG6xEGu-7Fry",
    "outputId": "a95cf9f8-89cd-4b37-ecab-cfc099a50e6e"
   },
   "outputs": [
    {
     "name": "stdout",
     "output_type": "stream",
     "text": [
      "ISBN         0\n",
      "Title        0\n",
      "Author       0\n",
      "Year         0\n",
      "Publisher    0\n",
      "dtype: int64 \n",
      "-------------\n",
      "User-ID    0\n",
      "ISBN       0\n",
      "Rating     0\n",
      "dtype: int64 \n",
      "-------------\n",
      "User-ID    0\n",
      "Age        0\n",
      "dtype: int64 \n",
      "-------------\n"
     ]
    }
   ],
   "source": [
    "print(books.isnull().sum(), '\\n-------------')\n",
    "print(ratings.isnull().sum(), '\\n-------------')\n",
    "print(users.isnull().sum(), '\\n-------------')"
   ]
  },
  {
   "cell_type": "code",
   "execution_count": 15,
   "metadata": {
    "id": "FKHy27Qa8Ckv"
   },
   "outputs": [],
   "source": [
    "ratings = ratings[ratings['Rating'] > 0]"
   ]
  },
  {
   "cell_type": "code",
   "execution_count": 16,
   "metadata": {
    "id": "kbql0CAu8qiL"
   },
   "outputs": [],
   "source": [
    "book_ratings = ratings.merge(books, on='ISBN')"
   ]
  },
  {
   "cell_type": "code",
   "execution_count": 17,
   "metadata": {
    "colab": {
     "base_uri": "https://localhost:8080/",
     "height": 275
    },
    "id": "7UFTmF6T8xJM",
    "outputId": "a61170dc-61a9-49d5-c20f-fc0bc5f3156c"
   },
   "outputs": [
    {
     "data": {
      "text/html": [
       "<div>\n",
       "<style scoped>\n",
       "    .dataframe tbody tr th:only-of-type {\n",
       "        vertical-align: middle;\n",
       "    }\n",
       "\n",
       "    .dataframe tbody tr th {\n",
       "        vertical-align: top;\n",
       "    }\n",
       "\n",
       "    .dataframe thead th {\n",
       "        text-align: right;\n",
       "    }\n",
       "</style>\n",
       "<table border=\"1\" class=\"dataframe\">\n",
       "  <thead>\n",
       "    <tr style=\"text-align: right;\">\n",
       "      <th></th>\n",
       "      <th>User-ID</th>\n",
       "      <th>ISBN</th>\n",
       "      <th>Rating</th>\n",
       "      <th>Title</th>\n",
       "      <th>Author</th>\n",
       "      <th>Year</th>\n",
       "      <th>Publisher</th>\n",
       "    </tr>\n",
       "  </thead>\n",
       "  <tbody>\n",
       "    <tr>\n",
       "      <th>0</th>\n",
       "      <td>276726</td>\n",
       "      <td>0155061224</td>\n",
       "      <td>5</td>\n",
       "      <td>Rites of Passage</td>\n",
       "      <td>Judith Rae</td>\n",
       "      <td>2001</td>\n",
       "      <td>Heinle</td>\n",
       "    </tr>\n",
       "    <tr>\n",
       "      <th>1</th>\n",
       "      <td>276729</td>\n",
       "      <td>052165615X</td>\n",
       "      <td>3</td>\n",
       "      <td>Help!: Level 1</td>\n",
       "      <td>Philip Prowse</td>\n",
       "      <td>1999</td>\n",
       "      <td>Cambridge University Press</td>\n",
       "    </tr>\n",
       "    <tr>\n",
       "      <th>2</th>\n",
       "      <td>276729</td>\n",
       "      <td>0521795028</td>\n",
       "      <td>6</td>\n",
       "      <td>The Amsterdam Connection : Level 4 (Cambridge ...</td>\n",
       "      <td>Sue Leather</td>\n",
       "      <td>2001</td>\n",
       "      <td>Cambridge University Press</td>\n",
       "    </tr>\n",
       "    <tr>\n",
       "      <th>3</th>\n",
       "      <td>276744</td>\n",
       "      <td>038550120X</td>\n",
       "      <td>7</td>\n",
       "      <td>A Painted House</td>\n",
       "      <td>JOHN GRISHAM</td>\n",
       "      <td>2001</td>\n",
       "      <td>Doubleday</td>\n",
       "    </tr>\n",
       "    <tr>\n",
       "      <th>4</th>\n",
       "      <td>11676</td>\n",
       "      <td>038550120X</td>\n",
       "      <td>10</td>\n",
       "      <td>A Painted House</td>\n",
       "      <td>JOHN GRISHAM</td>\n",
       "      <td>2001</td>\n",
       "      <td>Doubleday</td>\n",
       "    </tr>\n",
       "  </tbody>\n",
       "</table>\n",
       "</div>"
      ],
      "text/plain": [
       "   User-ID        ISBN  Rating  \\\n",
       "0   276726  0155061224       5   \n",
       "1   276729  052165615X       3   \n",
       "2   276729  0521795028       6   \n",
       "3   276744  038550120X       7   \n",
       "4    11676  038550120X      10   \n",
       "\n",
       "                                               Title         Author  Year  \\\n",
       "0                                   Rites of Passage     Judith Rae  2001   \n",
       "1                                     Help!: Level 1  Philip Prowse  1999   \n",
       "2  The Amsterdam Connection : Level 4 (Cambridge ...    Sue Leather  2001   \n",
       "3                                    A Painted House   JOHN GRISHAM  2001   \n",
       "4                                    A Painted House   JOHN GRISHAM  2001   \n",
       "\n",
       "                    Publisher  \n",
       "0                      Heinle  \n",
       "1  Cambridge University Press  \n",
       "2  Cambridge University Press  \n",
       "3                   Doubleday  \n",
       "4                   Doubleday  "
      ]
     },
     "execution_count": 17,
     "metadata": {},
     "output_type": "execute_result"
    }
   ],
   "source": [
    "book_ratings.head()"
   ]
  },
  {
   "cell_type": "code",
   "execution_count": 18,
   "metadata": {
    "id": "usyJEbpk_lB3"
   },
   "outputs": [],
   "source": [
    "# Create combined features for content-based filtering\n",
    "def combine_features(row):\n",
    "    return row['Title'] + \" \" + row['Author'] + \" \" + row['Publisher']"
   ]
  },
  {
   "cell_type": "code",
   "execution_count": 19,
   "metadata": {
    "id": "NGE4CloH_0g_"
   },
   "outputs": [],
   "source": [
    "books['combined_features'] = books.apply(combine_features, axis=1)"
   ]
  },
  {
   "cell_type": "code",
   "execution_count": 20,
   "metadata": {
    "id": "GW5uLpD2A2vE"
   },
   "outputs": [],
   "source": [
    "# TF-IDF Vectorization\n",
    "vectorizer = TfidfVectorizer(stop_words='english')"
   ]
  },
  {
   "cell_type": "code",
   "execution_count": 21,
   "metadata": {
    "id": "eJ1fGNqE_6HB"
   },
   "outputs": [],
   "source": [
    "tfidf_matrix = vectorizer.fit_transform(books['combined_features'])"
   ]
  },
  {
   "cell_type": "code",
   "execution_count": 22,
   "metadata": {
    "id": "ej_vmsWM_-4D"
   },
   "outputs": [],
   "source": [
    "normalizer = Normalizer()"
   ]
  },
  {
   "cell_type": "code",
   "execution_count": 23,
   "metadata": {
    "id": "W0ArNv6aLdcH"
   },
   "outputs": [],
   "source": [
    "tfidf_matrix = normalizer.fit_transform(tfidf_matrix)"
   ]
  },
  {
   "cell_type": "code",
   "execution_count": 24,
   "metadata": {
    "id": "XzcP1ZXYCEcn"
   },
   "outputs": [],
   "source": [
    "# 1. Content-based recommendation\n",
    "def content_based_recommendation(user_id, ratings_df, books_df, tfidf_matrix, threshold=8, n=5):\n",
    "    print(\"Trying content-based filtering...\")\n",
    "    rated_books = ratings_df[(ratings_df['User-ID'] == user_id) & (ratings_df['Rating'] >= threshold)]['ISBN']\n",
    "    indices = books_df[books_df['ISBN'].isin(rated_books)].index\n",
    "\n",
    "    if len(indices) == 0:\n",
    "        print(\"No highly-rated books found for content-based filtering.\")\n",
    "        return None\n",
    "\n",
    "    user_profile = tfidf_matrix[indices].mean(axis=0)\n",
    "    cosine_sim = cosine_similarity(user_profile, tfidf_matrix).flatten()\n",
    "    cosine_sim[books_df[books_df['ISBN'].isin(rated_books)].index] = -1\n",
    "    top_indices = cosine_sim.argsort()[::-1][:n]\n",
    "    return books_df.iloc[top_indices][['ISBN', 'Title']]"
   ]
  },
  {
   "cell_type": "code",
   "execution_count": 25,
   "metadata": {
    "id": "kbMRw49jCGk1"
   },
   "outputs": [],
   "source": [
    "# 2. User-based collaborative filtering\n",
    "def user_based_collaborative_filtering(user_id, ratings_df, books_df, n=5):\n",
    "    print(\"Trying user-based collaborative filtering...\")\n",
    "    user_item_matrix = ratings_df.pivot_table(index='User-ID', columns='ISBN', values='Rating').fillna(0)\n",
    "    if user_id not in user_item_matrix.index:\n",
    "        print(\"User not found in user-item matrix.\")\n",
    "        return None\n",
    "\n",
    "    sparse_matrix = csr_matrix(user_item_matrix.values)\n",
    "    cosine_sim = cosine_similarity(sparse_matrix)\n",
    "    user_index = user_item_matrix.index.get_loc(user_id)\n",
    "    sim_scores = list(enumerate(cosine_sim[user_index]))\n",
    "    sim_scores = sorted(sim_scores, key=lambda x: x[1], reverse=True)\n",
    "    top_users = [user_item_matrix.index[i] for i, _ in sim_scores[1:6]]\n",
    "\n",
    "    user_books = set(ratings_df[ratings_df['User-ID'] == user_id]['ISBN'])\n",
    "    similar_users_ratings = ratings_df[ratings_df['User-ID'].isin(top_users)]\n",
    "    unseen_books = similar_users_ratings[~similar_users_ratings['ISBN'].isin(user_books)]\n",
    "    if unseen_books.empty:\n",
    "        print(\"No unseen books by similar users.\")\n",
    "        return None\n",
    "\n",
    "    top_recs = unseen_books.groupby('ISBN')['Rating'].mean().sort_values(ascending=False).head(n)\n",
    "    return books_df[books_df['ISBN'].isin(top_recs.index)][['ISBN', 'Title']]"
   ]
  },
  {
   "cell_type": "code",
   "execution_count": 26,
   "metadata": {
    "id": "2LVPTHlKANfv"
   },
   "outputs": [],
   "source": [
    "# 3. Item-based collaborative filtering\n",
    "def item_based_collaborative_filtering(user_id, ratings_df, books_df, n=5):\n",
    "    print(\"Trying item-based collaborative filtering...\")\n",
    "    user_ratings = ratings_df[ratings_df['User-ID'] == user_id]\n",
    "    if len(user_ratings) != 1:\n",
    "        print(\"Item-based filtering only used when exactly one book is rated.\")\n",
    "        return None\n",
    "\n",
    "    liked_book = user_ratings.iloc[0]['ISBN']\n",
    "    similar_users = ratings_df[ratings_df['ISBN'] == liked_book]['User-ID'].unique()\n",
    "    if len(similar_users) == 0:\n",
    "        print(\"No similar users found.\")\n",
    "        return None\n",
    "\n",
    "    similar_users_ratings = ratings_df[(ratings_df['User-ID'].isin(similar_users)) & (ratings_df['ISBN'] != liked_book)]\n",
    "    if similar_users_ratings.empty:\n",
    "        print(\"No additional books rated by similar users.\")\n",
    "        return None\n",
    "\n",
    "    top_recs = similar_users_ratings.groupby('ISBN')['Rating'].mean().sort_values(ascending=False).head(n)\n",
    "    return books_df[books_df['ISBN'].isin(top_recs.index)][['ISBN', 'Title']]"
   ]
  },
  {
   "cell_type": "code",
   "execution_count": 27,
   "metadata": {
    "colab": {
     "base_uri": "https://localhost:8080/"
    },
    "id": "KTzNd2mDCZNe",
    "outputId": "bedca05c-0247-400f-fcca-3d90db7a23e9"
   },
   "outputs": [],
   "source": [
    "# 4. Global fallback for users with no ratings\n",
    "def global_top_books(ratings_df, books_df, n=5):\n",
    "    print(\"Falling back to global top-rated books...\")\n",
    "    top_books = ratings_df.groupby('ISBN')['Rating'].mean().sort_values(ascending=False).head(n)\n",
    "    return books_df[books_df['ISBN'].isin(top_books.index)][['ISBN', 'Title']]"
   ]
  },
  {
   "cell_type": "code",
   "execution_count": 28,
   "metadata": {
    "id": "mOA4vPsZC9In"
   },
   "outputs": [],
   "source": [
    "def recommend_books(user_id, ratings_df, books_df, tfidf_matrix, n=5):\n",
    "    user_ratings = ratings_df[ratings_df['User-ID'] == user_id]\n",
    "    print(f\"User {user_id} has rated {len(user_ratings)} book(s).\")\n",
    "\n",
    "    if len(user_ratings) >= 3:\n",
    "        result = user_based_collaborative_filtering(user_id, ratings_df, books_df, n)\n",
    "        if result is not None:\n",
    "            return result\n",
    "\n",
    "    if len(user_ratings) == 1:\n",
    "        result = item_based_collaborative_filtering(user_id, ratings_df, books_df, n)\n",
    "        if result is not None:\n",
    "            return result\n",
    "\n",
    "    if len(user_ratings) >= 1:\n",
    "        result = content_based_recommendation(user_id, ratings_df, books_df, tfidf_matrix, threshold=8, n=n)\n",
    "        if result is not None:\n",
    "            return result\n",
    "\n",
    "    return global_top_books(ratings_df, books_df, n)"
   ]
  },
  {
   "cell_type": "code",
   "execution_count": 29,
   "metadata": {
    "id": "t-pZ8rCDVCBY"
   },
   "outputs": [],
   "source": [
    "user_id = 10"
   ]
  },
  {
   "cell_type": "code",
   "execution_count": 30,
   "metadata": {
    "id": "6SzWBjQsVJT6"
   },
   "outputs": [
    {
     "name": "stdout",
     "output_type": "stream",
     "text": [
      "User 10 has rated 1 book(s).\n",
      "Trying item-based collaborative filtering...\n",
      "No additional books rated by similar users.\n",
      "Trying content-based filtering...\n",
      "No highly-rated books found for content-based filtering.\n",
      "Falling back to global top-rated books...\n"
     ]
    }
   ],
   "source": [
    "recommended_books = recommend_books(user_id, ratings, books, tfidf_matrix)"
   ]
  },
  {
   "cell_type": "code",
   "execution_count": 31,
   "metadata": {
    "colab": {
     "base_uri": "https://localhost:8080/"
    },
    "id": "r_RmcfilV3PO",
    "outputId": "f5a048f9-0a94-42c3-a90a-c9ffe178154a"
   },
   "outputs": [
    {
     "name": "stdout",
     "output_type": "stream",
     "text": [
      "Recommended Books for User ID 10:\n",
      "              ISBN                                      Title\n",
      "141169  8472452786                La Conciencia Sin Fronteras\n",
      "156804  1559702028  Auschwitz : A Doctor's Eyewitness Account\n",
      "202493  1559700904                                  The Loser\n",
      "232831  1559634634         Alone: The Classic Polar Adventure\n"
     ]
    }
   ],
   "source": [
    "print(f\"Recommended Books for User ID {user_id}:\")\n",
    "print(recommended_books)"
   ]
  },
  {
   "cell_type": "code",
   "execution_count": null,
   "metadata": {},
   "outputs": [],
   "source": []
  }
 ],
 "metadata": {
  "colab": {
   "provenance": []
  },
  "kernelspec": {
   "display_name": "Python 3 (ipykernel)",
   "language": "python",
   "name": "python3"
  },
  "language_info": {
   "codemirror_mode": {
    "name": "ipython",
    "version": 3
   },
   "file_extension": ".py",
   "mimetype": "text/x-python",
   "name": "python",
   "nbconvert_exporter": "python",
   "pygments_lexer": "ipython3",
   "version": "3.11.7"
  }
 },
 "nbformat": 4,
 "nbformat_minor": 1
}
